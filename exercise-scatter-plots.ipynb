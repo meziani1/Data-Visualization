{
 "cells": [
  {
   "cell_type": "markdown",
   "id": "3d95d07d",
   "metadata": {
    "papermill": {
     "duration": 0.011553,
     "end_time": "2022-07-27T16:50:08.620176",
     "exception": false,
     "start_time": "2022-07-27T16:50:08.608623",
     "status": "completed"
    },
    "tags": []
   },
   "source": [
    "**This notebook is an exercise in the [Data Visualization](https://www.kaggle.com/learn/data-visualization) course.  You can reference the tutorial at [this link](https://www.kaggle.com/alexisbcook/scatter-plots).**\n",
    "\n",
    "---\n"
   ]
  },
  {
   "cell_type": "markdown",
   "id": "9077de01",
   "metadata": {
    "papermill": {
     "duration": 0.010149,
     "end_time": "2022-07-27T16:50:08.640596",
     "exception": false,
     "start_time": "2022-07-27T16:50:08.630447",
     "status": "completed"
    },
    "tags": []
   },
   "source": [
    "In this exercise, you will use your new knowledge to propose a solution to a real-world scenario.  To succeed, you will need to import data into Python, answer questions using the data, and generate **scatter plots** to understand patterns in the data.\n",
    "\n",
    "## Scenario\n",
    "\n",
    "You work for a major candy producer, and your goal is to write a report that your company can use to guide the design of its next product.  Soon after starting your research, you stumble across this [very interesting dataset](https://fivethirtyeight.com/features/the-ultimate-halloween-candy-power-ranking/) containing results from a fun survey to crowdsource favorite candies.\n",
    "\n",
    "## Setup\n",
    "\n",
    "Run the next cell to import and configure the Python libraries that you need to complete the exercise."
   ]
  },
  {
   "cell_type": "code",
   "execution_count": 1,
   "id": "543641ba",
   "metadata": {
    "execution": {
     "iopub.execute_input": "2022-07-27T16:50:08.664621Z",
     "iopub.status.busy": "2022-07-27T16:50:08.663663Z",
     "iopub.status.idle": "2022-07-27T16:50:09.928696Z",
     "shell.execute_reply": "2022-07-27T16:50:09.927318Z"
    },
    "papermill": {
     "duration": 1.280833,
     "end_time": "2022-07-27T16:50:09.931787",
     "exception": false,
     "start_time": "2022-07-27T16:50:08.650954",
     "status": "completed"
    },
    "tags": []
   },
   "outputs": [
    {
     "name": "stdout",
     "output_type": "stream",
     "text": [
      "Setup Complete\n"
     ]
    }
   ],
   "source": [
    "import pandas as pd\n",
    "pd.plotting.register_matplotlib_converters()\n",
    "import matplotlib.pyplot as plt\n",
    "%matplotlib inline\n",
    "import seaborn as sns\n",
    "print(\"Setup Complete\")"
   ]
  },
  {
   "cell_type": "markdown",
   "id": "c3c67858",
   "metadata": {
    "papermill": {
     "duration": 0.00989,
     "end_time": "2022-07-27T16:50:09.952501",
     "exception": false,
     "start_time": "2022-07-27T16:50:09.942611",
     "status": "completed"
    },
    "tags": []
   },
   "source": [
    "The questions below will give you feedback on your work. Run the following cell to set up our feedback system."
   ]
  },
  {
   "cell_type": "code",
   "execution_count": 2,
   "id": "1603cd28",
   "metadata": {
    "execution": {
     "iopub.execute_input": "2022-07-27T16:50:09.974535Z",
     "iopub.status.busy": "2022-07-27T16:50:09.974158Z",
     "iopub.status.idle": "2022-07-27T16:50:10.044156Z",
     "shell.execute_reply": "2022-07-27T16:50:10.042874Z"
    },
    "papermill": {
     "duration": 0.084063,
     "end_time": "2022-07-27T16:50:10.046782",
     "exception": false,
     "start_time": "2022-07-27T16:50:09.962719",
     "status": "completed"
    },
    "tags": []
   },
   "outputs": [
    {
     "name": "stdout",
     "output_type": "stream",
     "text": [
      "Setup Complete\n"
     ]
    }
   ],
   "source": [
    "# Set up code checking\n",
    "import os\n",
    "if not os.path.exists(\"../input/candy.csv\"):\n",
    "    os.symlink(\"../input/data-for-datavis/candy.csv\", \"../input/candy.csv\") \n",
    "from learntools.core import binder\n",
    "binder.bind(globals())\n",
    "from learntools.data_viz_to_coder.ex4 import *\n",
    "print(\"Setup Complete\")"
   ]
  },
  {
   "cell_type": "markdown",
   "id": "b3be90c3",
   "metadata": {
    "papermill": {
     "duration": 0.010014,
     "end_time": "2022-07-27T16:50:10.067181",
     "exception": false,
     "start_time": "2022-07-27T16:50:10.057167",
     "status": "completed"
    },
    "tags": []
   },
   "source": [
    "## Step 1: Load the Data\n",
    "\n",
    "Read the candy data file into `candy_data`.  Use the `\"id\"` column to label the rows."
   ]
  },
  {
   "cell_type": "code",
   "execution_count": 3,
   "id": "9b593b8e",
   "metadata": {
    "execution": {
     "iopub.execute_input": "2022-07-27T16:50:10.089550Z",
     "iopub.status.busy": "2022-07-27T16:50:10.089165Z",
     "iopub.status.idle": "2022-07-27T16:50:10.106867Z",
     "shell.execute_reply": "2022-07-27T16:50:10.105619Z"
    },
    "papermill": {
     "duration": 0.031746,
     "end_time": "2022-07-27T16:50:10.109382",
     "exception": false,
     "start_time": "2022-07-27T16:50:10.077636",
     "status": "completed"
    },
    "tags": []
   },
   "outputs": [
    {
     "data": {
      "application/javascript": [
       "parent.postMessage({\"jupyterEvent\": \"custom.exercise_interaction\", \"data\": {\"outcomeType\": 1, \"valueTowardsCompletion\": 0.3333333333333333, \"interactionType\": 1, \"questionType\": 1, \"questionId\": \"1_LoadData\", \"learnToolsVersion\": \"0.3.4\", \"failureMessage\": \"\", \"exceptionClass\": \"\", \"trace\": \"\"}}, \"*\")"
      ],
      "text/plain": [
       "<IPython.core.display.Javascript object>"
      ]
     },
     "metadata": {},
     "output_type": "display_data"
    },
    {
     "data": {
      "text/markdown": [
       "<span style=\"color:#33cc33\">Correct</span>"
      ],
      "text/plain": [
       "Correct"
      ]
     },
     "metadata": {},
     "output_type": "display_data"
    }
   ],
   "source": [
    "# Path of the file to read\n",
    "candy_filepath = \"../input/candy.csv\"\n",
    "\n",
    "# Fill in the line below to read the file into a variable candy_data\n",
    "candy_data = pd.read_csv(candy_filepath, index_col=\"id\")\n",
    "\n",
    "# Run the line below with no changes to check that you've loaded the data correctly\n",
    "step_1.check()"
   ]
  },
  {
   "cell_type": "code",
   "execution_count": 4,
   "id": "1386b1e9",
   "metadata": {
    "execution": {
     "iopub.execute_input": "2022-07-27T16:50:10.137200Z",
     "iopub.status.busy": "2022-07-27T16:50:10.136420Z",
     "iopub.status.idle": "2022-07-27T16:50:10.144111Z",
     "shell.execute_reply": "2022-07-27T16:50:10.143161Z"
    },
    "papermill": {
     "duration": 0.024918,
     "end_time": "2022-07-27T16:50:10.146748",
     "exception": false,
     "start_time": "2022-07-27T16:50:10.121830",
     "status": "completed"
    },
    "tags": []
   },
   "outputs": [],
   "source": [
    "# Lines below will give you a hint or solution code\n",
    "#step_1.hint()\n",
    "#step_1.solution()"
   ]
  },
  {
   "cell_type": "markdown",
   "id": "ff6a48a9",
   "metadata": {
    "papermill": {
     "duration": 0.014904,
     "end_time": "2022-07-27T16:50:10.172309",
     "exception": false,
     "start_time": "2022-07-27T16:50:10.157405",
     "status": "completed"
    },
    "tags": []
   },
   "source": [
    "## Step 2: Review the data\n",
    "\n",
    "Use a Python command to print the first five rows of the data."
   ]
  },
  {
   "cell_type": "code",
   "execution_count": 5,
   "id": "b8cb4c25",
   "metadata": {
    "execution": {
     "iopub.execute_input": "2022-07-27T16:50:10.203541Z",
     "iopub.status.busy": "2022-07-27T16:50:10.203076Z",
     "iopub.status.idle": "2022-07-27T16:50:10.229582Z",
     "shell.execute_reply": "2022-07-27T16:50:10.228107Z"
    },
    "papermill": {
     "duration": 0.043646,
     "end_time": "2022-07-27T16:50:10.232172",
     "exception": false,
     "start_time": "2022-07-27T16:50:10.188526",
     "status": "completed"
    },
    "tags": []
   },
   "outputs": [
    {
     "data": {
      "text/html": [
       "<div>\n",
       "<style scoped>\n",
       "    .dataframe tbody tr th:only-of-type {\n",
       "        vertical-align: middle;\n",
       "    }\n",
       "\n",
       "    .dataframe tbody tr th {\n",
       "        vertical-align: top;\n",
       "    }\n",
       "\n",
       "    .dataframe thead th {\n",
       "        text-align: right;\n",
       "    }\n",
       "</style>\n",
       "<table border=\"1\" class=\"dataframe\">\n",
       "  <thead>\n",
       "    <tr style=\"text-align: right;\">\n",
       "      <th></th>\n",
       "      <th>competitorname</th>\n",
       "      <th>chocolate</th>\n",
       "      <th>fruity</th>\n",
       "      <th>caramel</th>\n",
       "      <th>peanutyalmondy</th>\n",
       "      <th>nougat</th>\n",
       "      <th>crispedricewafer</th>\n",
       "      <th>hard</th>\n",
       "      <th>bar</th>\n",
       "      <th>pluribus</th>\n",
       "      <th>sugarpercent</th>\n",
       "      <th>pricepercent</th>\n",
       "      <th>winpercent</th>\n",
       "    </tr>\n",
       "    <tr>\n",
       "      <th>id</th>\n",
       "      <th></th>\n",
       "      <th></th>\n",
       "      <th></th>\n",
       "      <th></th>\n",
       "      <th></th>\n",
       "      <th></th>\n",
       "      <th></th>\n",
       "      <th></th>\n",
       "      <th></th>\n",
       "      <th></th>\n",
       "      <th></th>\n",
       "      <th></th>\n",
       "      <th></th>\n",
       "    </tr>\n",
       "  </thead>\n",
       "  <tbody>\n",
       "    <tr>\n",
       "      <th>0</th>\n",
       "      <td>100 Grand</td>\n",
       "      <td>Yes</td>\n",
       "      <td>No</td>\n",
       "      <td>Yes</td>\n",
       "      <td>No</td>\n",
       "      <td>No</td>\n",
       "      <td>Yes</td>\n",
       "      <td>No</td>\n",
       "      <td>Yes</td>\n",
       "      <td>No</td>\n",
       "      <td>0.732</td>\n",
       "      <td>0.860</td>\n",
       "      <td>66.971725</td>\n",
       "    </tr>\n",
       "    <tr>\n",
       "      <th>1</th>\n",
       "      <td>3 Musketeers</td>\n",
       "      <td>Yes</td>\n",
       "      <td>No</td>\n",
       "      <td>No</td>\n",
       "      <td>No</td>\n",
       "      <td>Yes</td>\n",
       "      <td>No</td>\n",
       "      <td>No</td>\n",
       "      <td>Yes</td>\n",
       "      <td>No</td>\n",
       "      <td>0.604</td>\n",
       "      <td>0.511</td>\n",
       "      <td>67.602936</td>\n",
       "    </tr>\n",
       "    <tr>\n",
       "      <th>2</th>\n",
       "      <td>Air Heads</td>\n",
       "      <td>No</td>\n",
       "      <td>Yes</td>\n",
       "      <td>No</td>\n",
       "      <td>No</td>\n",
       "      <td>No</td>\n",
       "      <td>No</td>\n",
       "      <td>No</td>\n",
       "      <td>No</td>\n",
       "      <td>No</td>\n",
       "      <td>0.906</td>\n",
       "      <td>0.511</td>\n",
       "      <td>52.341465</td>\n",
       "    </tr>\n",
       "    <tr>\n",
       "      <th>3</th>\n",
       "      <td>Almond Joy</td>\n",
       "      <td>Yes</td>\n",
       "      <td>No</td>\n",
       "      <td>No</td>\n",
       "      <td>Yes</td>\n",
       "      <td>No</td>\n",
       "      <td>No</td>\n",
       "      <td>No</td>\n",
       "      <td>Yes</td>\n",
       "      <td>No</td>\n",
       "      <td>0.465</td>\n",
       "      <td>0.767</td>\n",
       "      <td>50.347546</td>\n",
       "    </tr>\n",
       "    <tr>\n",
       "      <th>4</th>\n",
       "      <td>Baby Ruth</td>\n",
       "      <td>Yes</td>\n",
       "      <td>No</td>\n",
       "      <td>Yes</td>\n",
       "      <td>Yes</td>\n",
       "      <td>Yes</td>\n",
       "      <td>No</td>\n",
       "      <td>No</td>\n",
       "      <td>Yes</td>\n",
       "      <td>No</td>\n",
       "      <td>0.604</td>\n",
       "      <td>0.767</td>\n",
       "      <td>56.914547</td>\n",
       "    </tr>\n",
       "  </tbody>\n",
       "</table>\n",
       "</div>"
      ],
      "text/plain": [
       "   competitorname chocolate fruity caramel peanutyalmondy nougat  \\\n",
       "id                                                                 \n",
       "0       100 Grand       Yes     No     Yes             No     No   \n",
       "1    3 Musketeers       Yes     No      No             No    Yes   \n",
       "2       Air Heads        No    Yes      No             No     No   \n",
       "3      Almond Joy       Yes     No      No            Yes     No   \n",
       "4       Baby Ruth       Yes     No     Yes            Yes    Yes   \n",
       "\n",
       "   crispedricewafer hard  bar pluribus  sugarpercent  pricepercent  winpercent  \n",
       "id                                                                              \n",
       "0               Yes   No  Yes       No         0.732         0.860   66.971725  \n",
       "1                No   No  Yes       No         0.604         0.511   67.602936  \n",
       "2                No   No   No       No         0.906         0.511   52.341465  \n",
       "3                No   No  Yes       No         0.465         0.767   50.347546  \n",
       "4                No   No  Yes       No         0.604         0.767   56.914547  "
      ]
     },
     "execution_count": 5,
     "metadata": {},
     "output_type": "execute_result"
    }
   ],
   "source": [
    "# Print the first five rows of the data\n",
    "candy_data.head() # Your code here"
   ]
  },
  {
   "cell_type": "markdown",
   "id": "84c8ac95",
   "metadata": {
    "papermill": {
     "duration": 0.010728,
     "end_time": "2022-07-27T16:50:10.254247",
     "exception": false,
     "start_time": "2022-07-27T16:50:10.243519",
     "status": "completed"
    },
    "tags": []
   },
   "source": [
    "The dataset contains 83 rows, where each corresponds to a different candy bar.  There are 13 columns:\n",
    "- `'competitorname'` contains the name of the candy bar. \n",
    "- the next **9** columns (from `'chocolate'` to `'pluribus'`) describe the candy.  For instance, rows with chocolate candies have `\"Yes\"` in the `'chocolate'` column (and candies without chocolate have `\"No\"` in the same column).\n",
    "- `'sugarpercent'` provides some indication of the amount of sugar, where higher values signify higher sugar content.\n",
    "- `'pricepercent'` shows the price per unit, relative to the other candies in the dataset.\n",
    "- `'winpercent'` is calculated from the survey results; higher values indicate that the candy was more popular with survey respondents.\n",
    "\n",
    "Use the first five rows of the data to answer the questions below."
   ]
  },
  {
   "cell_type": "code",
   "execution_count": 6,
   "id": "794a6da7",
   "metadata": {
    "execution": {
     "iopub.execute_input": "2022-07-27T16:50:10.278655Z",
     "iopub.status.busy": "2022-07-27T16:50:10.277870Z",
     "iopub.status.idle": "2022-07-27T16:50:10.287392Z",
     "shell.execute_reply": "2022-07-27T16:50:10.286478Z"
    },
    "papermill": {
     "duration": 0.024188,
     "end_time": "2022-07-27T16:50:10.289612",
     "exception": false,
     "start_time": "2022-07-27T16:50:10.265424",
     "status": "completed"
    },
    "tags": []
   },
   "outputs": [
    {
     "data": {
      "application/javascript": [
       "parent.postMessage({\"jupyterEvent\": \"custom.exercise_interaction\", \"data\": {\"outcomeType\": 1, \"valueTowardsCompletion\": 0.3333333333333333, \"interactionType\": 1, \"questionType\": 1, \"questionId\": \"2_ReviewData\", \"learnToolsVersion\": \"0.3.4\", \"failureMessage\": \"\", \"exceptionClass\": \"\", \"trace\": \"\"}}, \"*\")"
      ],
      "text/plain": [
       "<IPython.core.display.Javascript object>"
      ]
     },
     "metadata": {},
     "output_type": "display_data"
    },
    {
     "data": {
      "text/markdown": [
       "<span style=\"color:#33cc33\">Correct</span>"
      ],
      "text/plain": [
       "Correct"
      ]
     },
     "metadata": {},
     "output_type": "display_data"
    }
   ],
   "source": [
    "# Fill in the line below: Which candy was more popular with survey respondents:\n",
    "# '3 Musketeers' or 'Almond Joy'?  (Please enclose your answer in single quotes.)\n",
    "more_popular = '3 Musketeers'\n",
    "\n",
    "# Fill in the line below: Which candy has higher sugar content: 'Air Heads'\n",
    "# or 'Baby Ruth'? (Please enclose your answer in single quotes.)\n",
    "more_sugar = \"Air Heads\"\n",
    "\n",
    "# Check your answers\n",
    "step_2.check()"
   ]
  },
  {
   "cell_type": "code",
   "execution_count": 7,
   "id": "181b1da3",
   "metadata": {
    "execution": {
     "iopub.execute_input": "2022-07-27T16:50:10.325600Z",
     "iopub.status.busy": "2022-07-27T16:50:10.325085Z",
     "iopub.status.idle": "2022-07-27T16:50:10.331545Z",
     "shell.execute_reply": "2022-07-27T16:50:10.330412Z"
    },
    "papermill": {
     "duration": 0.02816,
     "end_time": "2022-07-27T16:50:10.333948",
     "exception": false,
     "start_time": "2022-07-27T16:50:10.305788",
     "status": "completed"
    },
    "tags": []
   },
   "outputs": [],
   "source": [
    "# Lines below will give you a hint or solution code\n",
    "#step_2.hint()\n",
    "#step_2.solution()"
   ]
  },
  {
   "cell_type": "markdown",
   "id": "cbb608bb",
   "metadata": {
    "papermill": {
     "duration": 0.010804,
     "end_time": "2022-07-27T16:50:10.356178",
     "exception": false,
     "start_time": "2022-07-27T16:50:10.345374",
     "status": "completed"
    },
    "tags": []
   },
   "source": [
    "## Step 3: The role of sugar\n",
    "\n",
    "Do people tend to prefer candies with higher sugar content?  \n",
    "\n",
    "#### Part A\n",
    "\n",
    "Create a scatter plot that shows the relationship between `'sugarpercent'` (on the horizontal x-axis) and `'winpercent'` (on the vertical y-axis).  _Don't add a regression line just yet -- you'll do that in the next step!_"
   ]
  },
  {
   "cell_type": "code",
   "execution_count": 8,
   "id": "ac4bfa63",
   "metadata": {
    "execution": {
     "iopub.execute_input": "2022-07-27T16:50:10.381150Z",
     "iopub.status.busy": "2022-07-27T16:50:10.380228Z",
     "iopub.status.idle": "2022-07-27T16:50:10.647593Z",
     "shell.execute_reply": "2022-07-27T16:50:10.646276Z"
    },
    "papermill": {
     "duration": 0.28341,
     "end_time": "2022-07-27T16:50:10.650785",
     "exception": false,
     "start_time": "2022-07-27T16:50:10.367375",
     "status": "completed"
    },
    "tags": []
   },
   "outputs": [
    {
     "data": {
      "application/javascript": [
       "parent.postMessage({\"jupyterEvent\": \"custom.exercise_interaction\", \"data\": {\"outcomeType\": 1, \"valueTowardsCompletion\": 0.3333333333333333, \"interactionType\": 1, \"questionType\": 2, \"questionId\": \"3.1_PlotBlueScatter\", \"learnToolsVersion\": \"0.3.4\", \"failureMessage\": \"\", \"exceptionClass\": \"\", \"trace\": \"\"}}, \"*\")"
      ],
      "text/plain": [
       "<IPython.core.display.Javascript object>"
      ]
     },
     "metadata": {},
     "output_type": "display_data"
    },
    {
     "data": {
      "text/markdown": [
       "<span style=\"color:#33cc33\">Correct</span>"
      ],
      "text/plain": [
       "Correct"
      ]
     },
     "metadata": {},
     "output_type": "display_data"
    },
    {
     "data": {
      "image/png": "[encoded data removed]",
      "text/plain": [
       "<Figure size 432x288 with 1 Axes>"
      ]
     },
     "metadata": {
      "needs_background": "light"
     },
     "output_type": "display_data"
    }
   ],
   "source": [
    "# Scatter plot showing the relationship between 'sugarpercent' and 'winpercent'\n",
    "sns.scatterplot(x=candy_data['sugarpercent'], y=candy_data['winpercent'])\n",
    "# Your code here\n",
    "\n",
    "# Check your answer\n",
    "step_3.a.check()"
   ]
  },
  {
   "cell_type": "code",
   "execution_count": 9,
   "id": "68bbf9a8",
   "metadata": {
    "execution": {
     "iopub.execute_input": "2022-07-27T16:50:10.682159Z",
     "iopub.status.busy": "2022-07-27T16:50:10.680859Z",
     "iopub.status.idle": "2022-07-27T16:50:10.686456Z",
     "shell.execute_reply": "2022-07-27T16:50:10.685285Z"
    },
    "papermill": {
     "duration": 0.021065,
     "end_time": "2022-07-27T16:50:10.688732",
     "exception": false,
     "start_time": "2022-07-27T16:50:10.667667",
     "status": "completed"
    },
    "tags": []
   },
   "outputs": [],
   "source": [
    "# Lines below will give you a hint or solution code\n",
    "#step_3.a.hint()\n",
    "#step_3.a.solution_plot()"
   ]
  },
  {
   "cell_type": "markdown",
   "id": "611c6511",
   "metadata": {
    "papermill": {
     "duration": 0.01127,
     "end_time": "2022-07-27T16:50:10.711807",
     "exception": false,
     "start_time": "2022-07-27T16:50:10.700537",
     "status": "completed"
    },
    "tags": []
   },
   "source": [
    "#### Part B\n",
    "\n",
    "Does the scatter plot show a **strong** correlation between the two variables?  If so, are candies with more sugar relatively more or less popular with the survey respondents?"
   ]
  },
  {
   "cell_type": "code",
   "execution_count": 10,
   "id": "07d4a63e",
   "metadata": {
    "execution": {
     "iopub.execute_input": "2022-07-27T16:50:10.737893Z",
     "iopub.status.busy": "2022-07-27T16:50:10.736983Z",
     "iopub.status.idle": "2022-07-27T16:50:10.751947Z",
     "shell.execute_reply": "2022-07-27T16:50:10.750876Z"
    },
    "papermill": {
     "duration": 0.031957,
     "end_time": "2022-07-27T16:50:10.755538",
     "exception": false,
     "start_time": "2022-07-27T16:50:10.723581",
     "status": "completed"
    },
    "tags": []
   },
   "outputs": [
    {
     "data": {
      "application/javascript": [
       "parent.postMessage({\"jupyterEvent\": \"custom.exercise_interaction\", \"data\": {\"interactionType\": 2, \"questionType\": 4, \"questionId\": \"3.2_ThinkBlueScatter\", \"learnToolsVersion\": \"0.3.4\", \"valueTowardsCompletion\": 0.0, \"failureMessage\": \"\", \"exceptionClass\": \"\", \"trace\": \"\", \"outcomeType\": 4}}, \"*\")"
      ],
      "text/plain": [
       "<IPython.core.display.Javascript object>"
      ]
     },
     "metadata": {},
     "output_type": "display_data"
    },
    {
     "data": {
      "text/markdown": [
       "<span style=\"color:#3366cc\">Hint:</span> Compare candies with higher sugar content (on the right side of the chart) to candies with lower sugar content (on the left side of the chart). Is one group clearly more popular than the other?"
      ],
      "text/plain": [
       "Hint: Compare candies with higher sugar content (on the right side of the chart) to candies with lower sugar content (on the left side of the chart). Is one group clearly more popular than the other?"
      ]
     },
     "metadata": {},
     "output_type": "display_data"
    }
   ],
   "source": [
    "step_3.b.hint()"
   ]
  },
  {
   "cell_type": "code",
   "execution_count": 11,
   "id": "ebf13c68",
   "metadata": {
    "execution": {
     "iopub.execute_input": "2022-07-27T16:50:10.785504Z",
     "iopub.status.busy": "2022-07-27T16:50:10.784965Z",
     "iopub.status.idle": "2022-07-27T16:50:10.795476Z",
     "shell.execute_reply": "2022-07-27T16:50:10.794315Z"
    },
    "papermill": {
     "duration": 0.027424,
     "end_time": "2022-07-27T16:50:10.798943",
     "exception": false,
     "start_time": "2022-07-27T16:50:10.771519",
     "status": "completed"
    },
    "tags": []
   },
   "outputs": [
    {
     "data": {
      "application/javascript": [
       "parent.postMessage({\"jupyterEvent\": \"custom.exercise_interaction\", \"data\": {\"interactionType\": 3, \"questionType\": 4, \"questionId\": \"3.2_ThinkBlueScatter\", \"learnToolsVersion\": \"0.3.4\", \"valueTowardsCompletion\": 0.0, \"failureMessage\": \"\", \"exceptionClass\": \"\", \"trace\": \"\", \"outcomeType\": 4}}, \"*\")"
      ],
      "text/plain": [
       "<IPython.core.display.Javascript object>"
      ]
     },
     "metadata": {},
     "output_type": "display_data"
    },
    {
     "data": {
      "text/markdown": [
       "<span style=\"color:#33cc99\">Solution:</span> The scatter plot does not show a strong correlation between the two variables. Since there is no clear relationship between the two variables, this tells us that sugar content does not play a strong role in candy popularity."
      ],
      "text/plain": [
       "Solution: The scatter plot does not show a strong correlation between the two variables. Since there is no clear relationship between the two variables, this tells us that sugar content does not play a strong role in candy popularity."
      ]
     },
     "metadata": {},
     "output_type": "display_data"
    }
   ],
   "source": [
    "# Check your answer (Run this code cell to receive credit!)\n",
    "step_3.b.solution()"
   ]
  },
  {
   "cell_type": "markdown",
   "id": "2c2c69ea",
   "metadata": {
    "papermill": {
     "duration": 0.012274,
     "end_time": "2022-07-27T16:50:10.826221",
     "exception": false,
     "start_time": "2022-07-27T16:50:10.813947",
     "status": "completed"
    },
    "tags": []
   },
   "source": [
    "## Step 4: Take a closer look\n",
    "\n",
    "#### Part A\n",
    "\n",
    "Create the same scatter plot you created in **Step 3**, but now with a regression line!"
   ]
  },
  {
   "cell_type": "code",
   "execution_count": 12,
   "id": "91c869ce",
   "metadata": {
    "execution": {
     "iopub.execute_input": "2022-07-27T16:50:10.853781Z",
     "iopub.status.busy": "2022-07-27T16:50:10.853229Z",
     "iopub.status.idle": "2022-07-27T16:50:11.160546Z",
     "shell.execute_reply": "2022-07-27T16:50:11.158866Z"
    },
    "papermill": {
     "duration": 0.324502,
     "end_time": "2022-07-27T16:50:11.163414",
     "exception": false,
     "start_time": "2022-07-27T16:50:10.838912",
     "status": "completed"
    },
    "tags": []
   },
   "outputs": [
    {
     "data": {
      "application/javascript": [
       "parent.postMessage({\"jupyterEvent\": \"custom.exercise_interaction\", \"data\": {\"outcomeType\": 1, \"valueTowardsCompletion\": 0.3333333333333333, \"interactionType\": 1, \"questionType\": 2, \"questionId\": \"4.1_PlotBlueReg\", \"learnToolsVersion\": \"0.3.4\", \"failureMessage\": \"\", \"exceptionClass\": \"\", \"trace\": \"\"}}, \"*\")"
      ],
      "text/plain": [
       "<IPython.core.display.Javascript object>"
      ]
     },
     "metadata": {},
     "output_type": "display_data"
    },
    {
     "data": {
      "text/markdown": [
       "<span style=\"color:#33cc33\">Correct</span>"
      ],
      "text/plain": [
       "Correct"
      ]
     },
     "metadata": {},
     "output_type": "display_data"
    },
    {
     "data": {
      "image/png": "[encoded data removed]",
      "text/plain": [
       "<Figure size 432x288 with 1 Axes>"
      ]
     },
     "metadata": {
      "needs_background": "light"
     },
     "output_type": "display_data"
    }
   ],
   "source": [
    "# Scatter plot w/ regression line showing the relationship between 'sugarpercent' and 'winpercent'\n",
    "sns.regplot(x=candy_data['sugarpercent'], y=candy_data['winpercent']) # Your code here\n",
    "\n",
    "# Check your answer\n",
    "step_4.a.check()"
   ]
  },
  {
   "cell_type": "code",
   "execution_count": 13,
   "id": "aeaf5383",
   "metadata": {
    "execution": {
     "iopub.execute_input": "2022-07-27T16:50:11.191490Z",
     "iopub.status.busy": "2022-07-27T16:50:11.191110Z",
     "iopub.status.idle": "2022-07-27T16:50:11.195879Z",
     "shell.execute_reply": "2022-07-27T16:50:11.194778Z"
    },
    "papermill": {
     "duration": 0.021665,
     "end_time": "2022-07-27T16:50:11.198257",
     "exception": false,
     "start_time": "2022-07-27T16:50:11.176592",
     "status": "completed"
    },
    "tags": []
   },
   "outputs": [],
   "source": [
    "# Lines below will give you a hint or solution code\n",
    "#step_4.a.hint()\n",
    "#step_4.a.solution_plot()"
   ]
  },
  {
   "cell_type": "markdown",
   "id": "fe6a4b93",
   "metadata": {
    "papermill": {
     "duration": 0.012427,
     "end_time": "2022-07-27T16:50:11.223662",
     "exception": false,
     "start_time": "2022-07-27T16:50:11.211235",
     "status": "completed"
    },
    "tags": []
   },
   "source": [
    "#### Part B\n",
    "\n",
    "According to the plot above, is there a **slight** correlation between `'winpercent'` and `'sugarpercent'`?  What does this tell you about the candy that people tend to prefer?"
   ]
  },
  {
   "cell_type": "code",
   "execution_count": 14,
   "id": "6f70560b",
   "metadata": {
    "execution": {
     "iopub.execute_input": "2022-07-27T16:50:11.251128Z",
     "iopub.status.busy": "2022-07-27T16:50:11.250726Z",
     "iopub.status.idle": "2022-07-27T16:50:11.255453Z",
     "shell.execute_reply": "2022-07-27T16:50:11.254239Z"
    },
    "papermill": {
     "duration": 0.021269,
     "end_time": "2022-07-27T16:50:11.257753",
     "exception": false,
     "start_time": "2022-07-27T16:50:11.236484",
     "status": "completed"
    },
    "tags": []
   },
   "outputs": [],
   "source": [
    "#step_4.b.hint()"
   ]
  },
  {
   "cell_type": "code",
   "execution_count": 15,
   "id": "09fed46b",
   "metadata": {
    "execution": {
     "iopub.execute_input": "2022-07-27T16:50:11.285868Z",
     "iopub.status.busy": "2022-07-27T16:50:11.285468Z",
     "iopub.status.idle": "2022-07-27T16:50:11.294549Z",
     "shell.execute_reply": "2022-07-27T16:50:11.293405Z"
    },
    "papermill": {
     "duration": 0.026066,
     "end_time": "2022-07-27T16:50:11.296813",
     "exception": false,
     "start_time": "2022-07-27T16:50:11.270747",
     "status": "completed"
    },
    "tags": []
   },
   "outputs": [
    {
     "data": {
      "application/javascript": [
       "parent.postMessage({\"jupyterEvent\": \"custom.exercise_interaction\", \"data\": {\"interactionType\": 3, \"questionType\": 4, \"questionId\": \"4.2_ThinkBlueReg\", \"learnToolsVersion\": \"0.3.4\", \"valueTowardsCompletion\": 0.0, \"failureMessage\": \"\", \"exceptionClass\": \"\", \"trace\": \"\", \"outcomeType\": 4}}, \"*\")"
      ],
      "text/plain": [
       "<IPython.core.display.Javascript object>"
      ]
     },
     "metadata": {},
     "output_type": "display_data"
    },
    {
     "data": {
      "text/markdown": [
       "<span style=\"color:#33cc99\">Solution:</span> Since the regression line has a slightly positive slope, this tells us that there is a slightly positive correlation between `'winpercent'` and `'sugarpercent'`. Thus, people have a slight preference for candies containing relatively more sugar."
      ],
      "text/plain": [
       "Solution: Since the regression line has a slightly positive slope, this tells us that there is a slightly positive correlation between `'winpercent'` and `'sugarpercent'`. Thus, people have a slight preference for candies containing relatively more sugar."
      ]
     },
     "metadata": {},
     "output_type": "display_data"
    }
   ],
   "source": [
    "# Check your answer (Run this code cell to receive credit!)\n",
    "step_4.b.solution()"
   ]
  },
  {
   "cell_type": "markdown",
   "id": "167603cb",
   "metadata": {
    "papermill": {
     "duration": 0.013342,
     "end_time": "2022-07-27T16:50:11.323732",
     "exception": false,
     "start_time": "2022-07-27T16:50:11.310390",
     "status": "completed"
    },
    "tags": []
   },
   "source": [
    "## Step 5: Chocolate!\n",
    "\n",
    "In the code cell below, create a scatter plot to show the relationship between `'pricepercent'` (on the horizontal x-axis) and `'winpercent'` (on the vertical y-axis). Use the `'chocolate'` column to color-code the points.  _Don't add any regression lines just yet -- you'll do that in the next step!_"
   ]
  },
  {
   "cell_type": "code",
   "execution_count": 16,
   "id": "4e7cfe50",
   "metadata": {
    "execution": {
     "iopub.execute_input": "2022-07-27T16:50:11.353045Z",
     "iopub.status.busy": "2022-07-27T16:50:11.352684Z",
     "iopub.status.idle": "2022-07-27T16:50:11.619008Z",
     "shell.execute_reply": "2022-07-27T16:50:11.618024Z"
    },
    "papermill": {
     "duration": 0.283752,
     "end_time": "2022-07-27T16:50:11.621351",
     "exception": false,
     "start_time": "2022-07-27T16:50:11.337599",
     "status": "completed"
    },
    "tags": []
   },
   "outputs": [
    {
     "data": {
      "application/javascript": [
       "parent.postMessage({\"jupyterEvent\": \"custom.exercise_interaction\", \"data\": {\"outcomeType\": 1, \"valueTowardsCompletion\": 0.3333333333333333, \"interactionType\": 1, \"questionType\": 2, \"questionId\": \"5_ColorScatter\", \"learnToolsVersion\": \"0.3.4\", \"failureMessage\": \"\", \"exceptionClass\": \"\", \"trace\": \"\"}}, \"*\")"
      ],
      "text/plain": [
       "<IPython.core.display.Javascript object>"
      ]
     },
     "metadata": {},
     "output_type": "display_data"
    },
    {
     "data": {
      "text/markdown": [
       "<span style=\"color:#33cc33\">Correct</span>"
      ],
      "text/plain": [
       "Correct"
      ]
     },
     "metadata": {},
     "output_type": "display_data"
    },
    {
     "data": {
      "image/png": "[encoded data removed]",
      "text/plain": [
       "<Figure size 432x288 with 1 Axes>"
      ]
     },
     "metadata": {
      "needs_background": "light"
     },
     "output_type": "display_data"
    }
   ],
   "source": [
    "# Scatter plot showing the relationship between 'pricepercent', 'winpercent', and 'chocolate'\n",
    "sns.scatterplot(x=candy_data['sugarpercent'], y=candy_data['winpercent'], hue=candy_data['chocolate']) # Your code here\n",
    "\n",
    "# Check your answer\n",
    "step_5.check()"
   ]
  },
  {
   "cell_type": "code",
   "execution_count": 17,
   "id": "915da0ca",
   "metadata": {
    "execution": {
     "iopub.execute_input": "2022-07-27T16:50:11.650927Z",
     "iopub.status.busy": "2022-07-27T16:50:11.650466Z",
     "iopub.status.idle": "2022-07-27T16:50:11.920398Z",
     "shell.execute_reply": "2022-07-27T16:50:11.919183Z"
    },
    "papermill": {
     "duration": 0.287566,
     "end_time": "2022-07-27T16:50:11.922948",
     "exception": false,
     "start_time": "2022-07-27T16:50:11.635382",
     "status": "completed"
    },
    "tags": []
   },
   "outputs": [
    {
     "data": {
      "application/javascript": [
       "parent.postMessage({\"jupyterEvent\": \"custom.exercise_interaction\", \"data\": {\"interactionType\": 3, \"questionType\": 2, \"questionId\": \"5_ColorScatter\", \"learnToolsVersion\": \"0.3.4\", \"valueTowardsCompletion\": 0.0, \"failureMessage\": \"\", \"exceptionClass\": \"\", \"trace\": \"\", \"outcomeType\": 4}}, \"*\")"
      ],
      "text/plain": [
       "<IPython.core.display.Javascript object>"
      ]
     },
     "metadata": {},
     "output_type": "display_data"
    },
    {
     "data": {
      "text/markdown": [
       "<span style=\"color:#33cc99\">Solution:</span> \n",
       "```python\n",
       "# Scatter plot showing the relationship between 'pricepercent', 'winpercent', and 'chocolate'\n",
       "sns.scatterplot(x=candy_data['pricepercent'], y=candy_data['winpercent'], hue=candy_data['chocolate'])\n",
       "\n",
       "```"
      ],
      "text/plain": [
       "Solution: \n",
       "```python\n",
       "# Scatter plot showing the relationship between 'pricepercent', 'winpercent', and 'chocolate'\n",
       "sns.scatterplot(x=candy_data['pricepercent'], y=candy_data['winpercent'], hue=candy_data['chocolate'])\n",
       "\n",
       "```"
      ]
     },
     "metadata": {},
     "output_type": "display_data"
    },
    {
     "data": {
      "image/png": "[encoded data removed]",
      "text/plain": [
       "<Figure size 432x288 with 1 Axes>"
      ]
     },
     "metadata": {
      "needs_background": "light"
     },
     "output_type": "display_data"
    }
   ],
   "source": [
    "# Lines below will give you a hint or solution code\n",
    "#step_5.hint()\n",
    "step_5.solution_plot()"
   ]
  },
  {
   "cell_type": "markdown",
   "id": "099281eb",
   "metadata": {
    "papermill": {
     "duration": 0.014736,
     "end_time": "2022-07-27T16:50:11.952778",
     "exception": false,
     "start_time": "2022-07-27T16:50:11.938042",
     "status": "completed"
    },
    "tags": []
   },
   "source": [
    "Can you see any interesting patterns in the scatter plot?  We'll investigate this plot further  by adding regression lines in the next step!\n",
    "\n",
    "## Step 6: Investigate chocolate\n",
    "\n",
    "#### Part A\n",
    "\n",
    "Create the same scatter plot you created in **Step 5**, but now with two regression lines, corresponding to (1) chocolate candies and (2) candies without chocolate."
   ]
  },
  {
   "cell_type": "code",
   "execution_count": 18,
   "id": "26533e08",
   "metadata": {
    "execution": {
     "iopub.execute_input": "2022-07-27T16:50:11.983776Z",
     "iopub.status.busy": "2022-07-27T16:50:11.983371Z",
     "iopub.status.idle": "2022-07-27T16:50:12.599585Z",
     "shell.execute_reply": "2022-07-27T16:50:12.598396Z"
    },
    "papermill": {
     "duration": 0.634497,
     "end_time": "2022-07-27T16:50:12.601865",
     "exception": false,
     "start_time": "2022-07-27T16:50:11.967368",
     "status": "completed"
    },
    "tags": []
   },
   "outputs": [
    {
     "data": {
      "application/javascript": [
       "parent.postMessage({\"jupyterEvent\": \"custom.exercise_interaction\", \"data\": {\"outcomeType\": 1, \"valueTowardsCompletion\": 0.3333333333333333, \"interactionType\": 1, \"questionType\": 2, \"questionId\": \"6.1_PlotColorReg\", \"learnToolsVersion\": \"0.3.4\", \"failureMessage\": \"\", \"exceptionClass\": \"\", \"trace\": \"\"}}, \"*\")"
      ],
      "text/plain": [
       "<IPython.core.display.Javascript object>"
      ]
     },
     "metadata": {},
     "output_type": "display_data"
    },
    {
     "data": {
      "text/markdown": [
       "<span style=\"color:#33cc33\">Correct</span>"
      ],
      "text/plain": [
       "Correct"
      ]
     },
     "metadata": {},
     "output_type": "display_data"
    },
    {
     "data": {
      "image/png": "[encoded data removed]",
      "text/plain": [
       "<Figure size 416.375x360 with 1 Axes>"
      ]
     },
     "metadata": {
      "needs_background": "light"
     },
     "output_type": "display_data"
    }
   ],
   "source": [
    "# Color-coded scatter plot w/ regression lines\n",
    "sns.lmplot(x=\"sugarpercent\", y=\"winpercent\", hue=\"chocolate\", data=candy_data) # Your code here\n",
    "\n",
    "# Check your answer\n",
    "step_6.a.check()"
   ]
  },
  {
   "cell_type": "code",
   "execution_count": 19,
   "id": "c77b4233",
   "metadata": {
    "execution": {
     "iopub.execute_input": "2022-07-27T16:50:12.634136Z",
     "iopub.status.busy": "2022-07-27T16:50:12.633706Z",
     "iopub.status.idle": "2022-07-27T16:50:12.638618Z",
     "shell.execute_reply": "2022-07-27T16:50:12.637405Z"
    },
    "papermill": {
     "duration": 0.023706,
     "end_time": "2022-07-27T16:50:12.640930",
     "exception": false,
     "start_time": "2022-07-27T16:50:12.617224",
     "status": "completed"
    },
    "tags": []
   },
   "outputs": [],
   "source": [
    "# Lines below will give you a hint or solution code\n",
    "#step_6.a.hint()\n",
    "#step_6.a.solution_plot()"
   ]
  },
  {
   "cell_type": "markdown",
   "id": "126a5f13",
   "metadata": {
    "papermill": {
     "duration": 0.014941,
     "end_time": "2022-07-27T16:50:12.671265",
     "exception": false,
     "start_time": "2022-07-27T16:50:12.656324",
     "status": "completed"
    },
    "tags": []
   },
   "source": [
    "#### Part B\n",
    "\n",
    "Using the regression lines, what conclusions can you draw about the effects of chocolate and price on candy popularity?"
   ]
  },
  {
   "cell_type": "code",
   "execution_count": 20,
   "id": "7bf3435f",
   "metadata": {
    "execution": {
     "iopub.execute_input": "2022-07-27T16:50:12.704301Z",
     "iopub.status.busy": "2022-07-27T16:50:12.703487Z",
     "iopub.status.idle": "2022-07-27T16:50:12.708738Z",
     "shell.execute_reply": "2022-07-27T16:50:12.707565Z"
    },
    "papermill": {
     "duration": 0.024674,
     "end_time": "2022-07-27T16:50:12.711189",
     "exception": false,
     "start_time": "2022-07-27T16:50:12.686515",
     "status": "completed"
    },
    "tags": []
   },
   "outputs": [],
   "source": [
    "#step_6.b.hint()"
   ]
  },
  {
   "cell_type": "code",
   "execution_count": 21,
   "id": "b8be5753",
   "metadata": {
    "execution": {
     "iopub.execute_input": "2022-07-27T16:50:12.743643Z",
     "iopub.status.busy": "2022-07-27T16:50:12.743251Z",
     "iopub.status.idle": "2022-07-27T16:50:12.752709Z",
     "shell.execute_reply": "2022-07-27T16:50:12.751541Z"
    },
    "papermill": {
     "duration": 0.028468,
     "end_time": "2022-07-27T16:50:12.755009",
     "exception": false,
     "start_time": "2022-07-27T16:50:12.726541",
     "status": "completed"
    },
    "tags": []
   },
   "outputs": [
    {
     "data": {
      "application/javascript": [
       "parent.postMessage({\"jupyterEvent\": \"custom.exercise_interaction\", \"data\": {\"interactionType\": 3, \"questionType\": 4, \"questionId\": \"6.2_ThinkColorReg\", \"learnToolsVersion\": \"0.3.4\", \"valueTowardsCompletion\": 0.0, \"failureMessage\": \"\", \"exceptionClass\": \"\", \"trace\": \"\", \"outcomeType\": 4}}, \"*\")"
      ],
      "text/plain": [
       "<IPython.core.display.Javascript object>"
      ]
     },
     "metadata": {},
     "output_type": "display_data"
    },
    {
     "data": {
      "text/markdown": [
       "<span style=\"color:#33cc99\">Solution:</span> We'll begin with the regression line for chocolate candies. Since this line has a slightly positive slope, we can say that more expensive chocolate candies tend to be more popular (than relatively cheaper chocolate candies).  Likewise, since the regression line for candies without chocolate has a negative slope, we can say that if candies don't contain chocolate, they tend to be more popular when they are cheaper.  One important note, however, is that the dataset is quite small -- so we shouldn't invest too much trust in these patterns!  To inspire more confidence in the results, we should add more candies to the dataset."
      ],
      "text/plain": [
       "Solution: We'll begin with the regression line for chocolate candies. Since this line has a slightly positive slope, we can say that more expensive chocolate candies tend to be more popular (than relatively cheaper chocolate candies).  Likewise, since the regression line for candies without chocolate has a negative slope, we can say that if candies don't contain chocolate, they tend to be more popular when they are cheaper.  One important note, however, is that the dataset is quite small -- so we shouldn't invest too much trust in these patterns!  To inspire more confidence in the results, we should add more candies to the dataset."
      ]
     },
     "metadata": {},
     "output_type": "display_data"
    }
   ],
   "source": [
    "# Check your answer (Run this code cell to receive credit!)\n",
    "step_6.b.solution()"
   ]
  },
  {
   "cell_type": "markdown",
   "id": "eba9fce9",
   "metadata": {
    "papermill": {
     "duration": 0.015082,
     "end_time": "2022-07-27T16:50:12.786210",
     "exception": false,
     "start_time": "2022-07-27T16:50:12.771128",
     "status": "completed"
    },
    "tags": []
   },
   "source": [
    "## Step 7: Everybody loves chocolate.\n",
    "\n",
    "#### Part A\n",
    "\n",
    "Create a categorical scatter plot to highlight the relationship between `'chocolate'` and `'winpercent'`.  Put `'chocolate'` on the (horizontal) x-axis, and `'winpercent'` on the (vertical) y-axis."
   ]
  },
  {
   "cell_type": "code",
   "execution_count": 22,
   "id": "1f4827b2",
   "metadata": {
    "execution": {
     "iopub.execute_input": "2022-07-27T16:50:12.818836Z",
     "iopub.status.busy": "2022-07-27T16:50:12.818461Z",
     "iopub.status.idle": "2022-07-27T16:50:13.011769Z",
     "shell.execute_reply": "2022-07-27T16:50:13.010426Z"
    },
    "papermill": {
     "duration": 0.213238,
     "end_time": "2022-07-27T16:50:13.014711",
     "exception": false,
     "start_time": "2022-07-27T16:50:12.801473",
     "status": "completed"
    },
    "tags": []
   },
   "outputs": [
    {
     "data": {
      "application/javascript": [
       "parent.postMessage({\"jupyterEvent\": \"custom.exercise_interaction\", \"data\": {\"outcomeType\": 1, \"valueTowardsCompletion\": 0.3333333333333333, \"interactionType\": 1, \"questionType\": 2, \"questionId\": \"7.1_PlotSwarm\", \"learnToolsVersion\": \"0.3.4\", \"failureMessage\": \"\", \"exceptionClass\": \"\", \"trace\": \"\"}}, \"*\")"
      ],
      "text/plain": [
       "<IPython.core.display.Javascript object>"
      ]
     },
     "metadata": {},
     "output_type": "display_data"
    },
    {
     "data": {
      "text/markdown": [
       "<span style=\"color:#33cc33\">Correct</span>"
      ],
      "text/plain": [
       "Correct"
      ]
     },
     "metadata": {},
     "output_type": "display_data"
    },
    {
     "data": {
      "image/png": "[encoded data removed]",
      "text/plain": [
       "<Figure size 432x288 with 1 Axes>"
      ]
     },
     "metadata": {
      "needs_background": "light"
     },
     "output_type": "display_data"
    }
   ],
   "source": [
    "# Scatter plot showing the relationship between 'chocolate' and 'winpercent'\n",
    "sns.swarmplot(x=candy_data['chocolate'],\n",
    "              y=candy_data['winpercent'])\n",
    "# Your code here\n",
    "\n",
    "# Check your answer\n",
    "step_7.a.check()"
   ]
  },
  {
   "cell_type": "code",
   "execution_count": 23,
   "id": "3b87feb9",
   "metadata": {
    "execution": {
     "iopub.execute_input": "2022-07-27T16:50:13.049815Z",
     "iopub.status.busy": "2022-07-27T16:50:13.049434Z",
     "iopub.status.idle": "2022-07-27T16:50:13.255114Z",
     "shell.execute_reply": "2022-07-27T16:50:13.253619Z"
    },
    "papermill": {
     "duration": 0.227189,
     "end_time": "2022-07-27T16:50:13.258723",
     "exception": false,
     "start_time": "2022-07-27T16:50:13.031534",
     "status": "completed"
    },
    "tags": []
   },
   "outputs": [
    {
     "data": {
      "application/javascript": [
       "parent.postMessage({\"jupyterEvent\": \"custom.exercise_interaction\", \"data\": {\"interactionType\": 3, \"questionType\": 2, \"questionId\": \"7.1_PlotSwarm\", \"learnToolsVersion\": \"0.3.4\", \"valueTowardsCompletion\": 0.0, \"failureMessage\": \"\", \"exceptionClass\": \"\", \"trace\": \"\", \"outcomeType\": 4}}, \"*\")"
      ],
      "text/plain": [
       "<IPython.core.display.Javascript object>"
      ]
     },
     "metadata": {},
     "output_type": "display_data"
    },
    {
     "data": {
      "text/markdown": [
       "<span style=\"color:#33cc99\">Solution:</span> \n",
       "```python\n",
       "# Scatter plot showing the relationship between 'chocolate' and 'winpercent'\n",
       "sns.swarmplot(x=candy_data['chocolate'], y=candy_data['winpercent'])\n",
       "\n",
       "```"
      ],
      "text/plain": [
       "Solution: \n",
       "```python\n",
       "# Scatter plot showing the relationship between 'chocolate' and 'winpercent'\n",
       "sns.swarmplot(x=candy_data['chocolate'], y=candy_data['winpercent'])\n",
       "\n",
       "```"
      ]
     },
     "metadata": {},
     "output_type": "display_data"
    },
    {
     "data": {
      "image/png": "[encoded data removed]",
      "text/plain": [
       "<Figure size 432x288 with 1 Axes>"
      ]
     },
     "metadata": {
      "needs_background": "light"
     },
     "output_type": "display_data"
    }
   ],
   "source": [
    "# Lines below will give you a hint or solution code\n",
    "#step_7.a.hint()\n",
    "step_7.a.solution_plot()"
   ]
  },
  {
   "cell_type": "markdown",
   "id": "7c450867",
   "metadata": {
    "papermill": {
     "duration": 0.017043,
     "end_time": "2022-07-27T16:50:13.293147",
     "exception": false,
     "start_time": "2022-07-27T16:50:13.276104",
     "status": "completed"
    },
    "tags": []
   },
   "source": [
    "#### Part B\n",
    "\n",
    "You decide to dedicate a section of your report to the fact that chocolate candies tend to be more popular than candies without chocolate.  Which plot is more appropriate to tell this story: the plot from **Step 6**, or the plot from **Step 7**?"
   ]
  },
  {
   "cell_type": "code",
   "execution_count": 24,
   "id": "8ce3f742",
   "metadata": {
    "execution": {
     "iopub.execute_input": "2022-07-27T16:50:13.329145Z",
     "iopub.status.busy": "2022-07-27T16:50:13.328744Z",
     "iopub.status.idle": "2022-07-27T16:50:13.333816Z",
     "shell.execute_reply": "2022-07-27T16:50:13.332561Z"
    },
    "papermill": {
     "duration": 0.025656,
     "end_time": "2022-07-27T16:50:13.336225",
     "exception": false,
     "start_time": "2022-07-27T16:50:13.310569",
     "status": "completed"
    },
    "tags": []
   },
   "outputs": [],
   "source": [
    "#step_7.b.hint()"
   ]
  },
  {
   "cell_type": "code",
   "execution_count": 25,
   "id": "798c104b",
   "metadata": {
    "execution": {
     "iopub.execute_input": "2022-07-27T16:50:13.373357Z",
     "iopub.status.busy": "2022-07-27T16:50:13.372897Z",
     "iopub.status.idle": "2022-07-27T16:50:13.380759Z",
     "shell.execute_reply": "2022-07-27T16:50:13.379798Z"
    },
    "papermill": {
     "duration": 0.030492,
     "end_time": "2022-07-27T16:50:13.383344",
     "exception": false,
     "start_time": "2022-07-27T16:50:13.352852",
     "status": "completed"
    },
    "tags": []
   },
   "outputs": [
    {
     "data": {
      "application/javascript": [
       "parent.postMessage({\"jupyterEvent\": \"custom.exercise_interaction\", \"data\": {\"interactionType\": 3, \"questionType\": 4, \"questionId\": \"7.2_ThinkSwarm\", \"learnToolsVersion\": \"0.3.4\", \"valueTowardsCompletion\": 0.0, \"failureMessage\": \"\", \"exceptionClass\": \"\", \"trace\": \"\", \"outcomeType\": 4}}, \"*\")"
      ],
      "text/plain": [
       "<IPython.core.display.Javascript object>"
      ]
     },
     "metadata": {},
     "output_type": "display_data"
    },
    {
     "data": {
      "text/markdown": [
       "<span style=\"color:#33cc99\">Solution:</span> In this case, the categorical scatter plot from **Step 7** is the more appropriate plot. While both plots tell the desired story, the plot from **Step 6** conveys far more information that could distract from the main point."
      ],
      "text/plain": [
       "Solution: In this case, the categorical scatter plot from **Step 7** is the more appropriate plot. While both plots tell the desired story, the plot from **Step 6** conveys far more information that could distract from the main point."
      ]
     },
     "metadata": {},
     "output_type": "display_data"
    }
   ],
   "source": [
    "# Check your answer (Run this code cell to receive credit!)\n",
    "step_7.b.solution()"
   ]
  },
  {
   "cell_type": "markdown",
   "id": "7bf972b0",
   "metadata": {
    "papermill": {
     "duration": 0.016549,
     "end_time": "2022-07-27T16:50:13.417247",
     "exception": false,
     "start_time": "2022-07-27T16:50:13.400698",
     "status": "completed"
    },
    "tags": []
   },
   "source": [
    "## Keep going\n",
    "\n",
    "Explore **[histograms and density plots](https://www.kaggle.com/alexisbcook/distributions)**."
   ]
  },
  {
   "cell_type": "markdown",
   "id": "a8020063",
   "metadata": {
    "papermill": {
     "duration": 0.017324,
     "end_time": "2022-07-27T16:50:13.451472",
     "exception": false,
     "start_time": "2022-07-27T16:50:13.434148",
     "status": "completed"
    },
    "tags": []
   },
   "source": [
    "---\n",
    "\n",
    "\n",
    "\n",
    "\n",
    "*Have questions or comments? Visit the [course discussion forum](https://www.kaggle.com/learn/data-visualization/discussion) to chat with other learners.*"
   ]
  }
 ],
 "metadata": {
  "kernelspec": {
   "display_name": "Python 3",
   "language": "python",
   "name": "python3"
  },
  "language_info": {
   "codemirror_mode": {
    "name": "ipython",
    "version": 3
   },
   "file_extension": ".py",
   "mimetype": "text/x-python",
   "name": "python",
   "nbconvert_exporter": "python",
   "pygments_lexer": "ipython3",
   "version": "3.7.12"
  },
  "papermill": {
   "default_parameters": {},
   "duration": 16.115427,
   "end_time": "2022-07-27T16:50:14.190473",
   "environment_variables": {},
   "exception": null,
   "input_path": "__notebook__.ipynb",
   "output_path": "__notebook__.ipynb",
   "parameters": {},
   "start_time": "2022-07-27T16:49:58.075046",
   "version": "2.3.4"
  }
 },
 "nbformat": 4,
 "nbformat_minor": 5
}
