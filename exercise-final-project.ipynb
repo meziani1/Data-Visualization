{
 "cells": [
  {
   "cell_type": "markdown",
   "id": "5c006338",
   "metadata": {
    "papermill": {
     "duration": 0.005795,
     "end_time": "2022-07-27T17:17:37.234729",
     "exception": false,
     "start_time": "2022-07-27T17:17:37.228934",
     "status": "completed"
    },
    "tags": []
   },
   "source": [
    "**This notebook is an exercise in the [Data Visualization](https://www.kaggle.com/learn/data-visualization) course.  You can reference the tutorial at [this link](https://www.kaggle.com/alexisbcook/final-project).**\n",
    "\n",
    "---\n"
   ]
  },
  {
   "cell_type": "markdown",
   "id": "2dfe1300",
   "metadata": {
    "papermill": {
     "duration": 0.00426,
     "end_time": "2022-07-27T17:17:37.243823",
     "exception": false,
     "start_time": "2022-07-27T17:17:37.239563",
     "status": "completed"
    },
    "tags": []
   },
   "source": [
    "Now it's time for you to demonstrate your new skills with a project of your own!\n",
    "\n",
    "In this exercise, you will work with a dataset of your choosing.  Once you've selected a dataset, you'll design and create your own plot to tell interesting stories behind the data!\n",
    "\n",
    "## Setup\n",
    "\n",
    "Run the next cell to import and configure the Python libraries that you need to complete the exercise."
   ]
  },
  {
   "cell_type": "code",
   "execution_count": 1,
   "id": "f0659929",
   "metadata": {
    "execution": {
     "iopub.execute_input": "2022-07-27T17:17:37.255097Z",
     "iopub.status.busy": "2022-07-27T17:17:37.254605Z",
     "iopub.status.idle": "2022-07-27T17:17:38.558499Z",
     "shell.execute_reply": "2022-07-27T17:17:38.555291Z"
    },
    "papermill": {
     "duration": 1.312979,
     "end_time": "2022-07-27T17:17:38.561517",
     "exception": false,
     "start_time": "2022-07-27T17:17:37.248538",
     "status": "completed"
    },
    "tags": []
   },
   "outputs": [
    {
     "name": "stdout",
     "output_type": "stream",
     "text": [
      "Setup Complete\n"
     ]
    }
   ],
   "source": [
    "import pandas as pd\n",
    "pd.plotting.register_matplotlib_converters()\n",
    "import matplotlib.pyplot as plt\n",
    "%matplotlib inline\n",
    "import seaborn as sns\n",
    "print(\"Setup Complete\")"
   ]
  },
  {
   "cell_type": "markdown",
   "id": "1325c02a",
   "metadata": {
    "papermill": {
     "duration": 0.005295,
     "end_time": "2022-07-27T17:17:38.572415",
     "exception": false,
     "start_time": "2022-07-27T17:17:38.567120",
     "status": "completed"
    },
    "tags": []
   },
   "source": [
    "The questions below will give you feedback on your work. Run the following cell to set up the feedback system."
   ]
  },
  {
   "cell_type": "code",
   "execution_count": 2,
   "id": "f965a1b8",
   "metadata": {
    "execution": {
     "iopub.execute_input": "2022-07-27T17:17:38.584821Z",
     "iopub.status.busy": "2022-07-27T17:17:38.583879Z",
     "iopub.status.idle": "2022-07-27T17:17:38.634115Z",
     "shell.execute_reply": "2022-07-27T17:17:38.632768Z"
    },
    "papermill": {
     "duration": 0.058845,
     "end_time": "2022-07-27T17:17:38.636582",
     "exception": false,
     "start_time": "2022-07-27T17:17:38.577737",
     "status": "completed"
    },
    "tags": []
   },
   "outputs": [
    {
     "name": "stdout",
     "output_type": "stream",
     "text": [
      "Setup Complete\n"
     ]
    }
   ],
   "source": [
    "# Set up code checking\n",
    "from learntools.core import binder\n",
    "binder.bind(globals())\n",
    "from learntools.data_viz_to_coder.ex7 import *\n",
    "print(\"Setup Complete\")"
   ]
  },
  {
   "cell_type": "markdown",
   "id": "5a07b1d6",
   "metadata": {
    "papermill": {
     "duration": 0.005611,
     "end_time": "2022-07-27T17:17:38.648419",
     "exception": false,
     "start_time": "2022-07-27T17:17:38.642808",
     "status": "completed"
    },
    "tags": []
   },
   "source": [
    "## Step 1: Attach a dataset to the notebook\n",
    "\n",
    "Begin by selecting a CSV dataset from [Kaggle Datasets](https://www.kaggle.com/datasets).  If you're unsure how to do this, please revisit the instructions in the previous tutorial.\n",
    "\n",
    "Once you have selected a dataset, click on the **[+ Add data]** option in the top right corner.  This will generate a pop-up window that you can use to search for your chosen dataset.  \n",
    "\n",
    "![ex6_search_dataset](https://i.imgur.com/cIIWPUS.png)\n",
    "\n",
    "Once you have found the dataset, click on the **[Add]** button to attach it to the notebook.  You can check that it was successful by looking at the **Data** dropdown menu to the right of the notebook -- look for an **input** folder containing a subfolder that matches the name of the dataset.\n",
    "\n",
    "<center>\n",
    "<img src=\"https://i.imgur.com/nMYc1Nu.png\" width=30%><br/>\n",
    "</center>\n",
    "\n",
    "You can click on the carat to the left of the name of the dataset to double-check that it contains a CSV file.  For instance, the image below shows that the example dataset contains two CSV files: (1) **dc-wikia-data.csv**, and (2) **marvel-wikia-data.csv**.\n",
    "\n",
    "<center>\n",
    "<img src=\"https://i.imgur.com/B4sJkVA.png\" width=30%><br/>\n",
    "</center>\n",
    "\n",
    "Once you've uploaded a dataset with a CSV file, run the code cell below **without changes** to receive credit for your work!"
   ]
  },
  {
   "cell_type": "code",
   "execution_count": 3,
   "id": "329722bf",
   "metadata": {
    "execution": {
     "iopub.execute_input": "2022-07-27T17:17:38.660821Z",
     "iopub.status.busy": "2022-07-27T17:17:38.660135Z",
     "iopub.status.idle": "2022-07-27T17:17:38.674365Z",
     "shell.execute_reply": "2022-07-27T17:17:38.673154Z"
    },
    "papermill": {
     "duration": 0.023692,
     "end_time": "2022-07-27T17:17:38.677181",
     "exception": false,
     "start_time": "2022-07-27T17:17:38.653489",
     "status": "completed"
    },
    "tags": []
   },
   "outputs": [
    {
     "data": {
      "application/javascript": [
       "parent.postMessage({\"jupyterEvent\": \"custom.exercise_interaction\", \"data\": {\"outcomeType\": 1, \"valueTowardsCompletion\": 0.25, \"interactionType\": 1, \"questionType\": 2, \"questionId\": \"1_AttachData\", \"learnToolsVersion\": \"0.3.4\", \"failureMessage\": \"\", \"exceptionClass\": \"\", \"trace\": \"\"}}, \"*\")"
      ],
      "text/plain": [
       "<IPython.core.display.Javascript object>"
      ]
     },
     "metadata": {},
     "output_type": "display_data"
    },
    {
     "data": {
      "text/markdown": [
       "<span style=\"color:#33cc33\">Correct:</span> \n",
       "\n"
      ],
      "text/plain": [
       "Correct: \n"
      ]
     },
     "metadata": {},
     "output_type": "display_data"
    }
   ],
   "source": [
    "# Check for a dataset with a CSV file\n",
    "step_1.check()"
   ]
  },
  {
   "cell_type": "markdown",
   "id": "0ae1c27c",
   "metadata": {
    "papermill": {
     "duration": 0.005433,
     "end_time": "2022-07-27T17:17:38.688275",
     "exception": false,
     "start_time": "2022-07-27T17:17:38.682842",
     "status": "completed"
    },
    "tags": []
   },
   "source": [
    "## Step 2: Specify the filepath\n",
    "\n",
    "Now that the dataset is attached to the notebook, you can find its filepath.  To do this, begin by clicking on the CSV file you'd like to use.  This will open the CSV file in a tab below the notebook.  You can find the filepath towards the top of this new tab.  \n",
    "\n",
    "![ex6_filepath](https://i.imgur.com/fgXQV47.png)\n",
    "\n",
    "After you find the filepath corresponding to your dataset, fill it in as the value for `my_filepath` in the code cell below, and run the code cell to check that you've provided a valid filepath.  For instance, in the case of this example dataset, we would set\n",
    "```\n",
    "my_filepath = \"../input/fivethirtyeight-comic-characters-dataset/dc-wikia-data.csv\"\n",
    "```  \n",
    "Note that **you must enclose the filepath in quotation marks**; otherwise, the code will return an error.\n",
    "\n",
    "Once you've entered the filepath, you can close the tab below the notebook by clicking on the **[X]** at the top of the tab."
   ]
  },
  {
   "cell_type": "code",
   "execution_count": 4,
   "id": "78848bd0",
   "metadata": {
    "execution": {
     "iopub.execute_input": "2022-07-27T17:17:38.700303Z",
     "iopub.status.busy": "2022-07-27T17:17:38.699688Z",
     "iopub.status.idle": "2022-07-27T17:17:38.708570Z",
     "shell.execute_reply": "2022-07-27T17:17:38.707472Z"
    },
    "papermill": {
     "duration": 0.017536,
     "end_time": "2022-07-27T17:17:38.710950",
     "exception": false,
     "start_time": "2022-07-27T17:17:38.693414",
     "status": "completed"
    },
    "tags": []
   },
   "outputs": [
    {
     "data": {
      "application/javascript": [
       "parent.postMessage({\"jupyterEvent\": \"custom.exercise_interaction\", \"data\": {\"outcomeType\": 1, \"valueTowardsCompletion\": 0.25, \"interactionType\": 1, \"questionType\": 2, \"questionId\": \"2_Filepath\", \"learnToolsVersion\": \"0.3.4\", \"failureMessage\": \"\", \"exceptionClass\": \"\", \"trace\": \"\"}}, \"*\")"
      ],
      "text/plain": [
       "<IPython.core.display.Javascript object>"
      ]
     },
     "metadata": {},
     "output_type": "display_data"
    },
    {
     "data": {
      "text/markdown": [
       "<span style=\"color:#33cc33\">Correct:</span> \n",
       "\n"
      ],
      "text/plain": [
       "Correct: \n"
      ]
     },
     "metadata": {},
     "output_type": "display_data"
    }
   ],
   "source": [
    "# Fill in the line below: Specify the path of the CSV file to read\n",
    "my_filepath = \"../input/fivethirtyeight-comic-characters-dataset/dc-wikia-data.csv\"\n",
    "\n",
    "# Check for a valid filepath to a CSV file in a dataset\n",
    "step_2.check()"
   ]
  },
  {
   "cell_type": "markdown",
   "id": "84df5954",
   "metadata": {
    "papermill": {
     "duration": 0.005316,
     "end_time": "2022-07-27T17:17:38.722265",
     "exception": false,
     "start_time": "2022-07-27T17:17:38.716949",
     "status": "completed"
    },
    "tags": []
   },
   "source": [
    "## Step 3: Load the data\n",
    "\n",
    "Use the next code cell to load your data file into `my_data`.  Use the filepath that you specified in the previous step."
   ]
  },
  {
   "cell_type": "code",
   "execution_count": 5,
   "id": "9d17df31",
   "metadata": {
    "execution": {
     "iopub.execute_input": "2022-07-27T17:17:38.734693Z",
     "iopub.status.busy": "2022-07-27T17:17:38.734280Z",
     "iopub.status.idle": "2022-07-27T17:17:38.808799Z",
     "shell.execute_reply": "2022-07-27T17:17:38.807417Z"
    },
    "papermill": {
     "duration": 0.08353,
     "end_time": "2022-07-27T17:17:38.811123",
     "exception": false,
     "start_time": "2022-07-27T17:17:38.727593",
     "status": "completed"
    },
    "tags": []
   },
   "outputs": [
    {
     "data": {
      "application/javascript": [
       "parent.postMessage({\"jupyterEvent\": \"custom.exercise_interaction\", \"data\": {\"outcomeType\": 1, \"valueTowardsCompletion\": 0.25, \"interactionType\": 1, \"questionType\": 2, \"questionId\": \"3_LoadData\", \"learnToolsVersion\": \"0.3.4\", \"failureMessage\": \"\", \"exceptionClass\": \"\", \"trace\": \"\"}}, \"*\")"
      ],
      "text/plain": [
       "<IPython.core.display.Javascript object>"
      ]
     },
     "metadata": {},
     "output_type": "display_data"
    },
    {
     "data": {
      "text/markdown": [
       "<span style=\"color:#33cc33\">Correct:</span> \n",
       "\n"
      ],
      "text/plain": [
       "Correct: \n"
      ]
     },
     "metadata": {},
     "output_type": "display_data"
    }
   ],
   "source": [
    "# Fill in the line below: Read the file into a variable my_data\n",
    "my_data = pd.read_csv(my_filepath, index_col=\"page_id\")\n",
    "\n",
    "# Check that a dataset has been uploaded into my_data\n",
    "step_3.check()"
   ]
  },
  {
   "cell_type": "markdown",
   "id": "eb0ab142",
   "metadata": {
    "papermill": {
     "duration": 0.006107,
     "end_time": "2022-07-27T17:17:38.823506",
     "exception": false,
     "start_time": "2022-07-27T17:17:38.817399",
     "status": "completed"
    },
    "tags": []
   },
   "source": [
    "**_After the code cell above is marked correct_**, run the code cell below without changes to view the first five rows of the data."
   ]
  },
  {
   "cell_type": "code",
   "execution_count": 6,
   "id": "001ee1cb",
   "metadata": {
    "execution": {
     "iopub.execute_input": "2022-07-27T17:17:38.837370Z",
     "iopub.status.busy": "2022-07-27T17:17:38.836701Z",
     "iopub.status.idle": "2022-07-27T17:17:38.859852Z",
     "shell.execute_reply": "2022-07-27T17:17:38.858847Z"
    },
    "papermill": {
     "duration": 0.032892,
     "end_time": "2022-07-27T17:17:38.862375",
     "exception": false,
     "start_time": "2022-07-27T17:17:38.829483",
     "status": "completed"
    },
    "tags": []
   },
   "outputs": [
    {
     "data": {
      "text/html": [
       "<div>\n",
       "<style scoped>\n",
       "    .dataframe tbody tr th:only-of-type {\n",
       "        vertical-align: middle;\n",
       "    }\n",
       "\n",
       "    .dataframe tbody tr th {\n",
       "        vertical-align: top;\n",
       "    }\n",
       "\n",
       "    .dataframe thead th {\n",
       "        text-align: right;\n",
       "    }\n",
       "</style>\n",
       "<table border=\"1\" class=\"dataframe\">\n",
       "  <thead>\n",
       "    <tr style=\"text-align: right;\">\n",
       "      <th></th>\n",
       "      <th>name</th>\n",
       "      <th>urlslug</th>\n",
       "      <th>ID</th>\n",
       "      <th>ALIGN</th>\n",
       "      <th>EYE</th>\n",
       "      <th>HAIR</th>\n",
       "      <th>SEX</th>\n",
       "      <th>GSM</th>\n",
       "      <th>ALIVE</th>\n",
       "      <th>APPEARANCES</th>\n",
       "      <th>FIRST APPEARANCE</th>\n",
       "      <th>YEAR</th>\n",
       "    </tr>\n",
       "    <tr>\n",
       "      <th>page_id</th>\n",
       "      <th></th>\n",
       "      <th></th>\n",
       "      <th></th>\n",
       "      <th></th>\n",
       "      <th></th>\n",
       "      <th></th>\n",
       "      <th></th>\n",
       "      <th></th>\n",
       "      <th></th>\n",
       "      <th></th>\n",
       "      <th></th>\n",
       "      <th></th>\n",
       "    </tr>\n",
       "  </thead>\n",
       "  <tbody>\n",
       "    <tr>\n",
       "      <th>1422</th>\n",
       "      <td>Batman (Bruce Wayne)</td>\n",
       "      <td>\\/wiki\\/Batman_(Bruce_Wayne)</td>\n",
       "      <td>Secret Identity</td>\n",
       "      <td>Good Characters</td>\n",
       "      <td>Blue Eyes</td>\n",
       "      <td>Black Hair</td>\n",
       "      <td>Male Characters</td>\n",
       "      <td>NaN</td>\n",
       "      <td>Living Characters</td>\n",
       "      <td>3093.0</td>\n",
       "      <td>1939, May</td>\n",
       "      <td>1939.0</td>\n",
       "    </tr>\n",
       "    <tr>\n",
       "      <th>23387</th>\n",
       "      <td>Superman (Clark Kent)</td>\n",
       "      <td>\\/wiki\\/Superman_(Clark_Kent)</td>\n",
       "      <td>Secret Identity</td>\n",
       "      <td>Good Characters</td>\n",
       "      <td>Blue Eyes</td>\n",
       "      <td>Black Hair</td>\n",
       "      <td>Male Characters</td>\n",
       "      <td>NaN</td>\n",
       "      <td>Living Characters</td>\n",
       "      <td>2496.0</td>\n",
       "      <td>1986, October</td>\n",
       "      <td>1986.0</td>\n",
       "    </tr>\n",
       "    <tr>\n",
       "      <th>1458</th>\n",
       "      <td>Green Lantern (Hal Jordan)</td>\n",
       "      <td>\\/wiki\\/Green_Lantern_(Hal_Jordan)</td>\n",
       "      <td>Secret Identity</td>\n",
       "      <td>Good Characters</td>\n",
       "      <td>Brown Eyes</td>\n",
       "      <td>Brown Hair</td>\n",
       "      <td>Male Characters</td>\n",
       "      <td>NaN</td>\n",
       "      <td>Living Characters</td>\n",
       "      <td>1565.0</td>\n",
       "      <td>1959, October</td>\n",
       "      <td>1959.0</td>\n",
       "    </tr>\n",
       "    <tr>\n",
       "      <th>1659</th>\n",
       "      <td>James Gordon (New Earth)</td>\n",
       "      <td>\\/wiki\\/James_Gordon_(New_Earth)</td>\n",
       "      <td>Public Identity</td>\n",
       "      <td>Good Characters</td>\n",
       "      <td>Brown Eyes</td>\n",
       "      <td>White Hair</td>\n",
       "      <td>Male Characters</td>\n",
       "      <td>NaN</td>\n",
       "      <td>Living Characters</td>\n",
       "      <td>1316.0</td>\n",
       "      <td>1987, February</td>\n",
       "      <td>1987.0</td>\n",
       "    </tr>\n",
       "    <tr>\n",
       "      <th>1576</th>\n",
       "      <td>Richard Grayson (New Earth)</td>\n",
       "      <td>\\/wiki\\/Richard_Grayson_(New_Earth)</td>\n",
       "      <td>Secret Identity</td>\n",
       "      <td>Good Characters</td>\n",
       "      <td>Blue Eyes</td>\n",
       "      <td>Black Hair</td>\n",
       "      <td>Male Characters</td>\n",
       "      <td>NaN</td>\n",
       "      <td>Living Characters</td>\n",
       "      <td>1237.0</td>\n",
       "      <td>1940, April</td>\n",
       "      <td>1940.0</td>\n",
       "    </tr>\n",
       "  </tbody>\n",
       "</table>\n",
       "</div>"
      ],
      "text/plain": [
       "                                name                              urlslug  \\\n",
       "page_id                                                                     \n",
       "1422            Batman (Bruce Wayne)         \\/wiki\\/Batman_(Bruce_Wayne)   \n",
       "23387          Superman (Clark Kent)        \\/wiki\\/Superman_(Clark_Kent)   \n",
       "1458      Green Lantern (Hal Jordan)   \\/wiki\\/Green_Lantern_(Hal_Jordan)   \n",
       "1659        James Gordon (New Earth)     \\/wiki\\/James_Gordon_(New_Earth)   \n",
       "1576     Richard Grayson (New Earth)  \\/wiki\\/Richard_Grayson_(New_Earth)   \n",
       "\n",
       "                      ID            ALIGN         EYE        HAIR  \\\n",
       "page_id                                                             \n",
       "1422     Secret Identity  Good Characters   Blue Eyes  Black Hair   \n",
       "23387    Secret Identity  Good Characters   Blue Eyes  Black Hair   \n",
       "1458     Secret Identity  Good Characters  Brown Eyes  Brown Hair   \n",
       "1659     Public Identity  Good Characters  Brown Eyes  White Hair   \n",
       "1576     Secret Identity  Good Characters   Blue Eyes  Black Hair   \n",
       "\n",
       "                     SEX  GSM              ALIVE  APPEARANCES  \\\n",
       "page_id                                                         \n",
       "1422     Male Characters  NaN  Living Characters       3093.0   \n",
       "23387    Male Characters  NaN  Living Characters       2496.0   \n",
       "1458     Male Characters  NaN  Living Characters       1565.0   \n",
       "1659     Male Characters  NaN  Living Characters       1316.0   \n",
       "1576     Male Characters  NaN  Living Characters       1237.0   \n",
       "\n",
       "        FIRST APPEARANCE    YEAR  \n",
       "page_id                           \n",
       "1422           1939, May  1939.0  \n",
       "23387      1986, October  1986.0  \n",
       "1458       1959, October  1959.0  \n",
       "1659      1987, February  1987.0  \n",
       "1576         1940, April  1940.0  "
      ]
     },
     "execution_count": 6,
     "metadata": {},
     "output_type": "execute_result"
    }
   ],
   "source": [
    "# Print the first five rows of the data\n",
    "my_data.head()"
   ]
  },
  {
   "cell_type": "markdown",
   "id": "ed9dc1f6",
   "metadata": {
    "papermill": {
     "duration": 0.005748,
     "end_time": "2022-07-27T17:17:38.874087",
     "exception": false,
     "start_time": "2022-07-27T17:17:38.868339",
     "status": "completed"
    },
    "tags": []
   },
   "source": [
    "## Step 4: Visualize the data\n",
    "\n",
    "Use the next code cell to create a figure that tells a story behind your dataset.  You can use any chart type (_line chart, bar chart, heatmap, etc_) of your choosing!"
   ]
  },
  {
   "cell_type": "code",
   "execution_count": 7,
   "id": "2a06fd3e",
   "metadata": {
    "execution": {
     "iopub.execute_input": "2022-07-27T17:17:38.888127Z",
     "iopub.status.busy": "2022-07-27T17:17:38.887407Z",
     "iopub.status.idle": "2022-07-27T17:24:44.494888Z",
     "shell.execute_reply": "2022-07-27T17:24:44.493540Z"
    },
    "papermill": {
     "duration": 425.62528,
     "end_time": "2022-07-27T17:24:44.505154",
     "exception": false,
     "start_time": "2022-07-27T17:17:38.879874",
     "status": "completed"
    },
    "tags": []
   },
   "outputs": [
    {
     "data": {
      "application/javascript": [
       "parent.postMessage({\"jupyterEvent\": \"custom.exercise_interaction\", \"data\": {\"outcomeType\": 1, \"valueTowardsCompletion\": 0.25, \"interactionType\": 1, \"questionType\": 2, \"questionId\": \"4_CreatePlot\", \"learnToolsVersion\": \"0.3.4\", \"failureMessage\": \"\", \"exceptionClass\": \"\", \"trace\": \"\"}}, \"*\")"
      ],
      "text/plain": [
       "<IPython.core.display.Javascript object>"
      ]
     },
     "metadata": {},
     "output_type": "display_data"
    },
    {
     "data": {
      "text/markdown": [
       "<span style=\"color:#33cc33\">Correct:</span> \n",
       "\n"
      ],
      "text/plain": [
       "Correct: \n"
      ]
     },
     "metadata": {},
     "output_type": "display_data"
    },
    {
     "data": {
      "image/png": "[encoded data removed]",
      "text/plain": [
       "<Figure size 432x288 with 1 Axes>"
      ]
     },
     "metadata": {
      "needs_background": "light"
     },
     "output_type": "display_data"
    }
   ],
   "source": [
    "# Create a plot\n",
    "sns.histplot(data=my_data, x='APPEARANCES', hue='YEAR')\n",
    "\n",
    "# Add title\n",
    "plt.title(\"Histogram of apparances, by name\") # Your code here\n",
    "\n",
    "# Check that a figure appears below\n",
    "step_4.check()"
   ]
  },
  {
   "cell_type": "markdown",
   "id": "c847ed64",
   "metadata": {
    "papermill": {
     "duration": 0.006692,
     "end_time": "2022-07-27T17:24:44.518905",
     "exception": false,
     "start_time": "2022-07-27T17:24:44.512213",
     "status": "completed"
    },
    "tags": []
   },
   "source": [
    "## Keep going\n",
    "\n",
    "Learn how to use your skills after completing the micro-course to create data visualizations in a **[final tutorial](https://www.kaggle.com/alexisbcook/creating-your-own-notebooks)**."
   ]
  },
  {
   "cell_type": "markdown",
   "id": "af8d03c9",
   "metadata": {
    "papermill": {
     "duration": 0.006748,
     "end_time": "2022-07-27T17:24:44.532745",
     "exception": false,
     "start_time": "2022-07-27T17:24:44.525997",
     "status": "completed"
    },
    "tags": []
   },
   "source": [
    "---\n",
    "\n",
    "\n",
    "\n",
    "\n",
    "*Have questions or comments? Visit the [course discussion forum](https://www.kaggle.com/learn/data-visualization/discussion) to chat with other learners.*"
   ]
  }
 ],
 "metadata": {
  "kernelspec": {
   "display_name": "Python 3",
   "language": "python",
   "name": "python3"
  },
  "language_info": {
   "codemirror_mode": {
    "name": "ipython",
    "version": 3
   },
   "file_extension": ".py",
   "mimetype": "text/x-python",
   "name": "python",
   "nbconvert_exporter": "python",
   "pygments_lexer": "ipython3",
   "version": "3.7.12"
  },
  "papermill": {
   "default_parameters": {},
   "duration": 440.988642,
   "end_time": "2022-07-27T17:24:47.264537",
   "environment_variables": {},
   "exception": null,
   "input_path": "__notebook__.ipynb",
   "output_path": "__notebook__.ipynb",
   "parameters": {},
   "start_time": "2022-07-27T17:17:26.275895",
   "version": "2.3.4"
  }
 },
 "nbformat": 4,
 "nbformat_minor": 5
}
